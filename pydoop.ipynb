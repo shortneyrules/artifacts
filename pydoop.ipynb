{
 "cells": [
  {
   "cell_type": "code",
   "execution_count": 1,
   "metadata": {},
   "outputs": [],
   "source": [
    "import pydoop.hdfs as hdfs"
   ]
  },
  {
   "cell_type": "code",
   "execution_count": 2,
   "metadata": {},
   "outputs": [],
   "source": [
    "dtap=hdfs.hdfs(\"dtap://TenantStorage\")"
   ]
  },
  {
   "cell_type": "code",
   "execution_count": 3,
   "metadata": {},
   "outputs": [
    {
     "data": {
      "text/plain": [
       "[{'name': 'dtap://TenantStorage/inputs',\n",
       "  'kind': 'directory',\n",
       "  'group': 'Domain Users',\n",
       "  'last_mod': 1613711649,\n",
       "  'last_access': 1613711639,\n",
       "  'replication': 3,\n",
       "  'owner': 'courtney',\n",
       "  'permissions': 511,\n",
       "  'block_size': 268435456,\n",
       "  'path': 'dtap://TenantStorage/inputs',\n",
       "  'size': 0},\n",
       " {'name': 'dtap://TenantStorage/spark-jars',\n",
       "  'kind': 'directory',\n",
       "  'group': 'Domain Users',\n",
       "  'last_mod': 1613780051,\n",
       "  'last_access': 1613624244,\n",
       "  'replication': 3,\n",
       "  'owner': 'courtney',\n",
       "  'permissions': 511,\n",
       "  'block_size': 268435456,\n",
       "  'path': 'dtap://TenantStorage/spark-jars',\n",
       "  'size': 0},\n",
       " {'name': 'dtap://TenantStorage/test',\n",
       "  'kind': 'directory',\n",
       "  'group': 'Domain Users',\n",
       "  'last_mod': 1614045552,\n",
       "  'last_access': 1613623786,\n",
       "  'replication': 3,\n",
       "  'owner': 'courtney',\n",
       "  'permissions': 493,\n",
       "  'block_size': 268435456,\n",
       "  'path': 'dtap://TenantStorage/test',\n",
       "  'size': 0},\n",
       " {'name': 'dtap://TenantStorage/tmp',\n",
       "  'kind': 'directory',\n",
       "  'group': 'Domain Users',\n",
       "  'last_mod': 1613622430,\n",
       "  'last_access': 1613622430,\n",
       "  'replication': 3,\n",
       "  'owner': 'courtney',\n",
       "  'permissions': 493,\n",
       "  'block_size': 268435456,\n",
       "  'path': 'dtap://TenantStorage/tmp',\n",
       "  'size': 0}]"
      ]
     },
     "execution_count": 3,
     "metadata": {},
     "output_type": "execute_result"
    }
   ],
   "source": [
    "dtap.list_directory(\"/\")"
   ]
  },
  {
   "cell_type": "code",
   "execution_count": null,
   "metadata": {},
   "outputs": [],
   "source": []
  }
 ],
 "metadata": {
  "kernelspec": {
   "display_name": "Python 3",
   "language": "python",
   "name": "python3"
  },
  "language_info": {
   "codemirror_mode": {
    "name": "ipython",
    "version": 3
   },
   "file_extension": ".py",
   "mimetype": "text/x-python",
   "name": "python",
   "nbconvert_exporter": "python",
   "pygments_lexer": "ipython3",
   "version": "3.7.7"
  }
 },
 "nbformat": 4,
 "nbformat_minor": 4
}
