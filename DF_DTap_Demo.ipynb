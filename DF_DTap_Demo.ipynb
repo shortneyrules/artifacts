{
 "cells": [
  {
   "cell_type": "markdown",
   "metadata": {},
   "source": [
    "## Standalone DF and DataTap Demo"
   ]
  },
  {
   "cell_type": "markdown",
   "metadata": {},
   "source": [
    "#### -1- Establish A Login Session With The HPE CP Enviroment\n",
    "#### Initialize the environment:\n",
    "\n",
    "Let's first define the environment variables according to your Ezmeral Container Platform user account and tenant name, and the Ezmeral Container Platform API system endpoint:"
   ]
  },
  {
   "cell_type": "code",
   "execution_count": null,
   "metadata": {},
   "outputs": [],
   "source": [
    "# DataFabric Variables\n",
    "#cldb_host=\"m2-dfse-us.mip.storage.hpecorp.net\"\n",
    "#cldb_endpoint=\"m2-dfse-us.mip.storage.hpecorp.net:8443\"\n",
    "#cldb_user=\"mapr\"\n",
    "#cldb_pass=\"datafab123\"\n",
    "\n",
    "# ECP Variables\n",
    "username=\"courtney\" # your ECP tenant login credentials - username \n",
    "password=\"Admin123\" # your ECP tenant login credentials - password\n",
    "controller_endpoint=\"16.0.8.220:8080\"\n",
    "gateway_host=\"mip-bd-vm207.mip.storage.hpecorp.net\"\n",
    "tenantname=\"lazy-tenant\"\n",
    "\n",
    "echo \"your working context is:\" $username-$password-$tenantname"
   ]
  },
  {
   "cell_type": "markdown",
   "metadata": {},
   "source": [
    "#### -2- Authenticate as a Tenant user in the specified tenant:"
   ]
  },
  {
   "cell_type": "code",
   "execution_count": null,
   "metadata": {},
   "outputs": [],
   "source": [
    "sessionlocation=$(curl -k -i -s --request POST \"http://${controller_endpoint}/api/v2/session\" \\\n",
    "--header 'Accept: application/json' \\\n",
    "--header 'Content-Type: application/json' \\\n",
    "--data '{\n",
    "\"name\": \"'\"$username\"'\",\n",
    "\"password\": \"'\"$password\"'\",\n",
    "\"tenant_name\": \"'\"$tenantname\"'\"\n",
    "}' | grep Location | awk '{print $2}' | tr -d '\\r') #we remove any cr that might exist\n",
    "echo \"This is your session location: \" $sessionlocation\n",
    "SessionId=$(echo $sessionlocation | cut -d'/' -f 5) # extract sessionId for later, for logout\n",
    "echo \"This is your session_Id:\" $SessionId"
   ]
  },
  {
   "cell_type": "markdown",
   "metadata": {},
   "source": [
    "#### Quickly check to ensure you can make REST API calls within your tenant working context:\n",
    "Here you will fetch information about the session you have just established."
   ]
  },
  {
   "cell_type": "code",
   "execution_count": null,
   "metadata": {},
   "outputs": [],
   "source": [
    "curl -k -s --request GET \"http://${controller_endpoint}/api/v2/session/${SessionId}\" \\\n",
    "--header \"X-BDS-SESSION: $sessionlocation\" \\\n",
    "--header 'Accept: application/json' \\\n",
    "--header 'Content-Type: application/json' | python -m json.tool"
   ]
  },
  {
   "cell_type": "markdown",
   "metadata": {},
   "source": [
    "### -3- Create a Dtap using Existing DataFabric Volume:"
   ]
  },
  {
   "cell_type": "code",
   "execution_count": null,
   "metadata": {},
   "outputs": [],
   "source": [
    "curl -k -i -s --request POST \"http://${controller_endpoint}/api/v1/dataconn\" \\\n",
    "--header 'Accept: application/json' \\\n",
    "--header 'Content-Type: application/json' \\\n",
    "--header \"X-BDS-SESSION: $sessionlocation\" \\\n",
    "--data '{\n",
    "    \"bdfs_root\": {\n",
    "        \"path_from_endpoint\": \"/demo-vols/dsr-test1\"\n",
    "    },\n",
    "    \"endpoint\": {\n",
    "        \"cldb\": [\n",
    "            \"m2-maprse-dev02.mip.storage.hpecorp.net\",\n",
    "            \"m2-maprse-dev03.mip.storage.hpecorp.net\",\n",
    "            \"m2-maprse-dev04.mip.storage.hpecorp.net\"\n",
    "        ],\n",
    "        \"cluster_name\": \"m2-dfse-us.mip.storage.hpecorp.net\",\n",
    "        \"impersonation_enabled\": true,\n",
    "        \"mapr_tenant_volume\": false,\n",
    "        \"port\": 7222,\n",
    "        \"secure\": true,\n",
    "        \"ticket\": \"se_svc_imp\",\n",
    "        \"ticket_type\": \"servicewithimpersonation\",\n",
    "        \"ticket_user\": \"se_svc\",\n",
    "        \"type\": \"mapr\"\n",
    "    },\n",
    "    \"flags\": {\n",
    "        \"read_only\": false\n",
    "    },\n",
    "    \"label\": {\n",
    "        \"description\": \"DSR Test Volume\",\n",
    "        \"name\": \"dsr-demo\"\n",
    "    }\n",
    "}'"
   ]
  },
  {
   "cell_type": "markdown",
   "metadata": {},
   "source": [
    "### -4- Create New DataFabric Volume:"
   ]
  },
  {
   "cell_type": "code",
   "execution_count": null,
   "metadata": {},
   "outputs": [],
   "source": [
    "curl -k -X POST \"https://m2-dfse-us.mip.storage.hpecorp.net:8443/rest/volume/create?name=netflix_titles&path=/netflix_titles&readAce=g:se_lab_admins&writeAce=g:se_lab_admins\" --user mapr:datafab123"
   ]
  },
  {
   "cell_type": "markdown",
   "metadata": {},
   "source": [
    "### -5- Create DTap to New DataFabric Volume"
   ]
  },
  {
   "cell_type": "code",
   "execution_count": null,
   "metadata": {},
   "outputs": [],
   "source": [
    "curl -k -i -s --request POST \"http://${controller_endpoint}/api/v1/dataconn\" \\\n",
    "--header 'Accept: application/json' \\\n",
    "--header 'Content-Type: application/json' \\\n",
    "--header \"X-BDS-SESSION: $sessionlocation\" \\\n",
    "--data '{\n",
    "    \"bdfs_root\": {\n",
    "        \"path_from_endpoint\": \"/netflix_titles\"\n",
    "    },\n",
    "    \"endpoint\": {\n",
    "        \"cldb\": [\n",
    "            \"m2-maprse-dev02.mip.storage.hpecorp.net\",\n",
    "            \"m2-maprse-dev03.mip.storage.hpecorp.net\",\n",
    "            \"m2-maprse-dev04.mip.storage.hpecorp.net\"\n",
    "        ],\n",
    "        \"cluster_name\": \"m2-dfse-us.mip.storage.hpecorp.net\",\n",
    "        \"impersonation_enabled\": true,\n",
    "        \"mapr_tenant_volume\": false,\n",
    "        \"port\": 7222,\n",
    "        \"secure\": true,\n",
    "        \"ticket\": \"se_svc_imp\",\n",
    "        \"ticket_type\": \"servicewithimpersonation\",\n",
    "        \"ticket_user\": \"se_svc\",\n",
    "        \"type\": \"mapr\"\n",
    "    },\n",
    "    \"flags\": {\n",
    "        \"read_only\": false\n",
    "    },\n",
    "    \"label\": {\n",
    "        \"description\": \"netflix titles\",\n",
    "        \"name\": \"netflix\"\n",
    "    }\n",
    "}'"
   ]
  },
  {
   "cell_type": "code",
   "execution_count": null,
   "metadata": {},
   "outputs": [],
   "source": [
    "export http_proxy=http://web-proxy.corp.hpecorp.net:8080\n",
    "export https_proxy=http://web-proxy.corp.hpecorp.net:8080\n",
    "wget https://s3.amazonaws.com/nyc-tlc/trip+data/yellow_tripdata_2020-04.csv"
   ]
  },
  {
   "cell_type": "code",
   "execution_count": null,
   "metadata": {},
   "outputs": [],
   "source": [
    "hadoop fs -copyFromLocal netflix_titles.csv.zip dtap://netflix/"
   ]
  },
  {
   "cell_type": "code",
   "execution_count": null,
   "metadata": {},
   "outputs": [],
   "source": [
    "hadoop fs -ls dtap://netflix/"
   ]
  },
  {
   "cell_type": "code",
   "execution_count": null,
   "metadata": {},
   "outputs": [],
   "source": []
  }
 ],
 "metadata": {
  "kernelspec": {
   "display_name": "Bash",
   "language": "bash",
   "name": "bash"
  },
  "language_info": {
   "codemirror_mode": "shell",
   "file_extension": ".sh",
   "mimetype": "text/x-sh",
   "name": "bash"
  }
 },
 "nbformat": 4,
 "nbformat_minor": 4
}
